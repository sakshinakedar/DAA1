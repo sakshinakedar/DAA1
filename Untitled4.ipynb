{
  "nbformat": 4,
  "nbformat_minor": 0,
  "metadata": {
    "colab": {
      "provenance": [],
      "authorship_tag": "ABX9TyO/5VdeZ+jGk/XZr8XOpwxb"
    },
    "kernelspec": {
      "name": "python3",
      "display_name": "Python 3"
    },
    "language_info": {
      "name": "python"
    }
  },
  "cells": [
    {
      "cell_type": "code",
      "execution_count": 1,
      "metadata": {
        "colab": {
          "base_uri": "https://localhost:8080/"
        },
        "id": "cWwqtdK4wF4d",
        "outputId": "e9081482-e816-4190-ad5f-07a83f737046"
      },
      "outputs": [
        {
          "output_type": "stream",
          "name": "stdout",
          "text": [
            "5\n",
            "4 5 3 7 2 \n",
            "3 2 4 5 7\n"
          ]
        }
      ],
      "source": [
        "#quick sort\n",
        "def quickSort(arr):\n",
        "    pivot = arr[0]\n",
        "    left = []\n",
        "    equal = []\n",
        "    right = []\n",
        "    for num in arr:\n",
        "        if num < pivot:\n",
        "            left.append(num)\n",
        "        elif num == pivot:\n",
        "            equal.append(num)\n",
        "        else:\n",
        "            right.append(num)\n",
        "    return left + equal + right\n",
        "if __name__ == '__main__':\n",
        "    n = int(input().strip())\n",
        "    arr = list(map(int, input().strip().split()))\n",
        "    result = quickSort(arr)\n",
        "    print(\" \".join(map(str, result)))"
      ]
    }
  ]
}