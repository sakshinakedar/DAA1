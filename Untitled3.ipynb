{
  "nbformat": 4,
  "nbformat_minor": 0,
  "metadata": {
    "colab": {
      "provenance": [],
      "authorship_tag": "ABX9TyMDKb2APX4ZZs3lalkcGnyB"
    },
    "kernelspec": {
      "name": "python3",
      "display_name": "Python 3"
    },
    "language_info": {
      "name": "python"
    }
  },
  "cells": [
    {
      "cell_type": "code",
      "execution_count": 1,
      "metadata": {
        "colab": {
          "base_uri": "https://localhost:8080/"
        },
        "id": "kMjsHKeYoRFr",
        "outputId": "2f9c1917-7f4d-4e16-de7d-93f84d5dd269"
      },
      "outputs": [
        {
          "output_type": "stream",
          "name": "stdout",
          "text": [
            "Enter number of towns: 2\n",
            "Enter populations of towns: 10 100\n",
            "Enter locations of towns: 5 100\n",
            "Enter number of clouds: 1\n",
            "Enter locations of clouds: 4\n",
            "Enter ranges of clouds: 1\n",
            "110\n"
          ]
        }
      ],
      "source": [
        "from collections import defaultdict\n",
        "\n",
        "def maximumPeople(p, x, y, r):\n",
        "    n = len(p)\n",
        "    m = len(y)\n",
        "\n",
        "    # Create events for the start and end of each cloud range\n",
        "    events = []\n",
        "    for i in range(m):\n",
        "        start = y[i] - r[i]\n",
        "        end = y[i] + r[i]\n",
        "        events.append((start, 'start', i))\n",
        "        events.append((end + 1, 'end', i))\n",
        "\n",
        "    # Sort events by position\n",
        "    events.sort()\n",
        "\n",
        "    # Track the population of towns\n",
        "    town_population = defaultdict(int)\n",
        "    for i in range(n):\n",
        "        town_population[x[i]] = p[i]\n",
        "\n",
        "    # Track coverage\n",
        "    town_cover_count = defaultdict(int)\n",
        "    cloud_cover_towns = defaultdict(list)\n",
        "    covered_population = 0\n",
        "    single_cloud_population = defaultdict(int)\n",
        "\n",
        "    # Initial sunny population\n",
        "    total_population = sum(p)\n",
        "    initial_sunny_population = total_population\n",
        "\n",
        "    active_clouds = set()\n",
        "    current_cover_population = 0\n",
        "\n",
        "    # Process events\n",
        "    for position, event_type, cloud_index in events:\n",
        "        if event_type == 'start':\n",
        "            active_clouds.add(cloud_index)\n",
        "            for town_index in range(n):\n",
        "                if y[cloud_index] - r[cloud_index] <= x[town_index] <= y[cloud_index] + r[cloud_index]:\n",
        "                    town_cover_count[town_index] += 1\n",
        "                    if town_cover_count[town_index] == 1:\n",
        "                        current_cover_population += p[town_index]\n",
        "                    if town_cover_count[town_index] == 1 and len(active_clouds) == 1:\n",
        "                        single_cloud_population[cloud_index] += p[town_index]\n",
        "        else:\n",
        "            active_clouds.remove(cloud_index)\n",
        "            for town_index in range(n):\n",
        "                if y[cloud_index] - r[cloud_index] <= x[town_index] <= y[cloud_index] + r[cloud_index]:\n",
        "                    if town_cover_count[town_index] == 1:\n",
        "                        current_cover_population -= p[town_index]\n",
        "                    if town_cover_count[town_index] == 1 and len(active_clouds) == 0:\n",
        "                        single_cloud_population[cloud_index] -= p[town_index]\n",
        "                    town_cover_count[town_index] -= 1\n",
        "\n",
        "    initial_darkness_population = current_cover_population\n",
        "    initial_sunny_population = total_population - initial_darkness_population\n",
        "\n",
        "    max_sunny_population = initial_sunny_population\n",
        "\n",
        "    # Calculate the maximum sunny population after removing one cloud\n",
        "    for cloud_index in range(m):\n",
        "        potential_gain = single_cloud_population[cloud_index]\n",
        "        max_sunny_population = max(max_sunny_population, initial_sunny_population + potential_gain)\n",
        "\n",
        "    return max_sunny_population\n",
        "\n",
        "if __name__ == '__main__':\n",
        "    n = int(input(\"Enter number of towns: \").strip())\n",
        "    p = list(map(int, input(\"Enter populations of towns: \").rstrip().split()))\n",
        "    x = list(map(int, input(\"Enter locations of towns: \").rstrip().split()))\n",
        "    m = int(input(\"Enter number of clouds: \").strip())\n",
        "    y = list(map(int, input(\"Enter locations of clouds: \").rstrip().split()))\n",
        "    r = list(map(int, input(\"Enter ranges of clouds: \").rstrip().split()))\n",
        "\n",
        "    result = maximumPeople(p, x, y, r)\n",
        "\n",
        "    print(result)\n"
      ]
    }
  ]
}