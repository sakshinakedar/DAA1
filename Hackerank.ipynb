{
  "nbformat": 4,
  "nbformat_minor": 0,
  "metadata": {
    "colab": {
      "provenance": []
    },
    "kernelspec": {
      "name": "python3",
      "display_name": "Python 3"
    },
    "language_info": {
      "name": "python"
    }
  },
  "cells": [
    {
      "cell_type": "code",
      "source": [
        "#knapsack\n",
        "def unboundedKnapsack(k, arr):\n",
        "    dp = [0] * (k + 1)\n",
        "\n",
        "    for i in range(1, k + 1):\n",
        "        for num in arr:\n",
        "            if num <= i:\n",
        "                dp[i] = max(dp[i], dp[i - num] + num)\n",
        "\n",
        "    return dp[k]\n",
        "\n",
        "if __name__ == '__main__':\n",
        "    t = int(input().strip())\n",
        "\n",
        "    results = []\n",
        "    for _ in range(t):\n",
        "        first_multiple_input = input().rstrip().split()\n",
        "        n = int(first_multiple_input[0])\n",
        "        k = int(first_multiple_input[1])\n",
        "        arr = list(map(int, input().rstrip().split()))\n",
        "        result = unboundedKnapsack(k, arr)\n",
        "        results.append(result)\n",
        "\n",
        "    for res in results:\n",
        "        print(res)\n"
      ],
      "metadata": {
        "colab": {
          "base_uri": "https://localhost:8080/"
        },
        "id": "ajtGhZx6a9XH",
        "outputId": "b4866b63-8545-4f5f-d345-02052b0b54fa"
      },
      "execution_count": 5,
      "outputs": [
        {
          "output_type": "stream",
          "name": "stdout",
          "text": [
            "2\n",
            "3 12\n",
            "1 6 9\n",
            "5 9\n",
            "3 4 4 4 8\n",
            "12\n",
            "9\n"
          ]
        }
      ]
    }
  ]
}